{
 "cells": [
  {
   "cell_type": "code",
   "execution_count": 6,
   "metadata": {
    "collapsed": false
   },
   "outputs": [],
   "source": [
    "import numpy as np\n",
    "import scipy.stats as ss\n",
    "import scipy.spatial\n",
    "import pandas as pd\n",
    "import matplotlib.pyplot as plt\n",
    "import math\n",
    "%matplotlib inline"
   ]
  },
  {
   "cell_type": "code",
   "execution_count": 4,
   "metadata": {
    "collapsed": false
   },
   "outputs": [],
   "source": [
    "# (a) import and check the data, making sure they are imported as integers.\n",
    "train_data = np.loadtxt(\"/Users/fanyingtang/Desktop/homework_1/project_1/train.csv\",\\\n",
    "                        delimiter=\",\", \\\n",
    "                        skiprows=1, \\\n",
    "                        usecols=range(0,785), \\\n",
    "                        dtype=np.uint64)\n",
    "train_label = np.loadtxt(\"/Users/fanyingtang/Desktop/homework_1/project_1/train.csv\", \\\n",
    "                         delimiter=\",\", \\\n",
    "                         skiprows=1, \\\n",
    "                         usecols = range(0,1), \\\n",
    "                         dtype = np.uint64)"
   ]
  },
  {
   "cell_type": "code",
   "execution_count": 9,
   "metadata": {
    "collapsed": false
   },
   "outputs": [
    {
     "data": {
      "text/plain": [
       "(300, 600)"
      ]
     },
     "execution_count": 9,
     "metadata": {},
     "output_type": "execute_result"
    }
   ],
   "source": [
    "X_test = train_data[:300]\n",
    "Y_test = train_label[:300]\n",
    "X_train = train_data[300:900]\n",
    "Y_train = train_label[300:900]\n",
    "\n",
    "from scipy.spatial import distance\n",
    "scipy.spatial.distance.cdist(X_test, X_train, 'euclidean').shape"
   ]
  },
  {
   "cell_type": "code",
   "execution_count": null,
   "metadata": {
    "collapsed": true
   },
   "outputs": [],
   "source": []
  }
 ],
 "metadata": {
  "anaconda-cloud": {},
  "kernelspec": {
   "display_name": "Python [conda root]",
   "language": "python",
   "name": "conda-root-py"
  },
  "language_info": {
   "codemirror_mode": {
    "name": "ipython",
    "version": 3
   },
   "file_extension": ".py",
   "mimetype": "text/x-python",
   "name": "python",
   "nbconvert_exporter": "python",
   "pygments_lexer": "ipython3",
   "version": "3.5.2"
  }
 },
 "nbformat": 4,
 "nbformat_minor": 1
}
